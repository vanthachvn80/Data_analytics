{
 "cells": [
  {
   "cell_type": "markdown",
   "metadata": {},
   "source": [
    "## priority tenants according lease expiration date"
   ]
  },
  {
   "cell_type": "code",
   "execution_count": 1,
   "metadata": {},
   "outputs": [
    {
     "name": "stdout",
     "output_type": "stream",
     "text": [
      "       Tenant  Square Footage (sq)  Lease Price ($/month) Lease Expiration  \\\n",
      "13  Tenant 14                  950                   1150       2023-08-30   \n",
      "\n",
      "    Days Until Expiration  \n",
      "13                     -2  \n"
     ]
    }
   ],
   "source": [
    "import pandas as pd\n",
    "\n",
    "# Load your data into a Pandas DataFrame\n",
    "data = pd.read_excel('List_of_tenants_n_lease_expiration.xlsx')  # Replace with the actual path to your data file\n",
    "\n",
    "# Convert lease expiration dates to datetime format\n",
    "data['Lease Expiration'] = pd.to_datetime(data['Lease Expiration'])\n",
    "\n",
    "# Sort the DataFrame by lease expiration dates\n",
    "data.sort_values(by='Lease Expiration', inplace=True)\n",
    "\n",
    "# Calculate the difference between today's date and lease expiration dates\n",
    "data['Days Until Expiration'] = (data['Lease Expiration'] - pd.Timestamp.today()).dt.days\n",
    "\n",
    "# Prioritize tenants based on the lease expiration date\n",
    "priority_tenants = data[data['Days Until Expiration'] <= 5]  # Example: prioritize tenants expiring within 5 days\n",
    "\n",
    "# Display prioritized tenants\n",
    "print(priority_tenants)\n"
   ]
  }
 ],
 "metadata": {
  "kernelspec": {
   "display_name": "Python 3",
   "language": "python",
   "name": "python3"
  },
  "language_info": {
   "codemirror_mode": {
    "name": "ipython",
    "version": 3
   },
   "file_extension": ".py",
   "mimetype": "text/x-python",
   "name": "python",
   "nbconvert_exporter": "python",
   "pygments_lexer": "ipython3",
   "version": "3.10.5"
  },
  "orig_nbformat": 4
 },
 "nbformat": 4,
 "nbformat_minor": 2
}
